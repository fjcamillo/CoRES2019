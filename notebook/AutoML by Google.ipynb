{
 "cells": [
  {
   "cell_type": "markdown",
   "metadata": {},
   "source": [
    "![title](resources/google-automl.png)"
   ]
  },
  {
   "cell_type": "markdown",
   "metadata": {},
   "source": [
    "# AutoML by Google"
   ]
  },
  {
   "cell_type": "markdown",
   "metadata": {},
   "source": [
    "# I am\n",
    "\n",
    "### FJ Camillo\n",
    "\n",
    "What I do:\n",
    "- Build microservices using python and javascript\n",
    "- Build IOT projects\n",
    "- Do 3D Models and Animations\n",
    "- Environment Sketches\n",
    "\n",
    "![title](resources/45823323_2423803294303443_4447947524208066560_n.jpg)\n",
    "<br>"
   ]
  },
  {
   "cell_type": "markdown",
   "metadata": {},
   "source": [
    "# Definitions\n",
    "\n",
    "### ML ( Machine Learning )\n",
    "\n",
    "\n",
    "### AutoML\n",
    "Automated methods for model selection and/or hyperparameter optimization\n",
    "\n"
   ]
  },
  {
   "cell_type": "markdown",
   "metadata": {},
   "source": [
    "# What to expect\n",
    "\n",
    "This talk will mainly revolve around the basic of each neural network architecture, to have a basic understanding of how AutoML helps solve the problem of current data scientists in building architectures for different use cases"
   ]
  },
  {
   "cell_type": "markdown",
   "metadata": {},
   "source": [
    "# Table of Contents\n",
    "\n",
    "[Question](#Questions)\n",
    "1. [Question 1](#Question-1)\n",
    "2. [Question 2](#Question-2)\n",
    "3. [Question 3](#Question-3)\n",
    "\n",
    "[Track 1](#Track-1) <br>\n",
    "If audience is not yet ready to learn about AutoML\n",
    "1. [What is Neural Network](#What-is-neural-network)\n",
    "2. [Parts of a Neural Network](#Parts-of-a-Neural-Network)\n",
    "3. [5 Layer Neural Network](#5-layer-neural-network)\n",
    "4. [Convolutional Neural Network](#Convolutional-neural-network)\n",
    "5. [Different CNN Architectures](#Different-cnn-architectures)\n",
    "6. [Recurrent Neural Network](#recurrent-neural-network)\n",
    "7. [Different RNN Architectures](#different-rnn-architectures)\n",
    "8. [Reinforcement Learning](#reinforcement-learning)\n",
    "\n",
    "[Track 2](#track-2) <br>\n",
    "If audience is ready to learn about AutoML\n",
    "\n",
    "1. [What is Neural Network](#what-is-neural-network)\n",
    "2. [Neural Network Architecture thru the ages](#neural-network-architecture-thru-the-ages)\n",
    "3. [How does one build a Neural Network Architecture](#how-does-one-build-a-neural-network-architecture)\n",
    "4. [Neural Architecture Search](#neural-architecture-search)\n",
    "5. [NASNet](#nasnet)\n",
    "6. [AmoebaNet](#amoebanet)\n",
    "7. [ENAS](#enas)\n",
    "8. [Differential Architecture Search ( DARTS )](#differential-architecture-search)\n",
    "\n",
    "[Main Talk](#main-talk) <br>\n",
    "1. [Neural Architecture Search Simplified](#neural-architecture-search-simplified)\n",
    "2. [Google's Implementation ( Google AutoML )](#Google-AutoML)\n"
   ]
  },
  {
   "cell_type": "markdown",
   "metadata": {},
   "source": [
    "# Questions"
   ]
  },
  {
   "cell_type": "markdown",
   "metadata": {},
   "source": [
    "### Question 1 - Can Anyone recognize this?\n",
    "\n",
    "![questionone](resources/images.png)\n",
    "\n",
    "If you recognize this image raise your hand"
   ]
  },
  {
   "cell_type": "markdown",
   "metadata": {},
   "source": [
    "### Question 2\n",
    "\n",
    "![questiontwo](resources/Screen-Shot-2018-04-16-at-11.34.51-AM.png)\n",
    "\n",
    "If you recognize this image raise your hand"
   ]
  },
  {
   "cell_type": "markdown",
   "metadata": {},
   "source": [
    "### Question 3\n",
    "\n",
    "![questionthree](resources/teaching-recurrent-neural-networks-using-tensorflow-webinar-august-2016-24-638.jpg)\n",
    "\n",
    "If you recognize this image raise your hand"
   ]
  },
  {
   "cell_type": "markdown",
   "metadata": {},
   "source": [
    "# Track 1"
   ]
  },
  {
   "cell_type": "markdown",
   "metadata": {},
   "source": [
    "### What is Neural Network\n",
    "\n",
    "<i>a computing system made up of a number of simple, highly interconnected processing elements, which process information by their dynamic state response to external inputs.</i>\n",
    "~Dr. Robert Hecht-Nielsen\n",
    "\n",
    "ANNs are processing devices (algorithms or actual hardware) that are loosely modeled after the neuronal structure of the mamalian cerebral cortex but on much smaller scales. A large ANN might have hundreds or thousands of processor units, whereas a mamalian brain has billions of neurons with a corresponding increase in magnitude of their overall interaction and emergent behavior. Although ANN researchers are generally not concerned with whether their networks accurately resemble biological systems, some have. For example, researchers have accurately simulated the function of the retina and modeled the eye rather well."
   ]
  },
  {
   "cell_type": "markdown",
   "metadata": {},
   "source": [
    "### Parts of a Neural Network\n",
    "\n",
    "Neural networks are typically organized in layers. Layers are made up of a number of interconnected 'nodes' which contain an 'activation function'. Patterns are presented to the network via the 'input layer', which communicates to one or more 'hidden layers' where the actual processing is done via a system of weighted 'connections'. The hidden layers then link to an 'output layer' where the answer is output as shown in the graphic \n",
    "\n",
    "See the following image\n",
    "\n",
    "![nn](resources/nn.png)\n",
    "\n",
    "* Input\n",
    "\n",
    "* Hidden\n",
    "\n",
    "* Output"
   ]
  },
  {
   "cell_type": "markdown",
   "metadata": {},
   "source": [
    "### Layered Neural Network\n",
    "\n",
    "The number of the layers are defined by the number of hidden layers, although also take note that some use the total count of layers.\n",
    "\n",
    "So for the image below, we could say that is a 2 Layered Neural Network and also a 4 Layered Neural Network\n",
    "\n",
    "![questionone](resources/images.png)\n",
    "\n",
    "Layering neural networks helped us create various architecture that are fit for specific applications\n",
    "\n",
    "Here are some examples\n",
    "- Convolutional Neural Networks (CNNs)\n",
    "- Recurrent Neural Networks (RNNs)\n",
    "- Reinforcement Learning (RL)\n",
    "- Transfer Learning (TL)\n"
   ]
  },
  {
   "cell_type": "markdown",
   "metadata": {},
   "source": [
    "# Let's Get Into It"
   ]
  },
  {
   "cell_type": "markdown",
   "metadata": {},
   "source": [
    "### Convolutional Neural Network\n",
    "\n",
    "Convolutional Neural Networks are very similar to ordinary Neural Networks they are made up of neurons that have learnable weights and biases. Each neuron receives some inputs, performs a dot product and optionally follows it with a non-linearity. The whole network still expresses a single differentiable score function: from the raw image pixels on one end to class scores at the other. And they still have a loss function (e.g. SVM/Softmax) on the last (fully-connected) layer.\n",
    "\n",
    "\n",
    "### LeNet5\n",
    "\n",
    "![questiontwo](resources/Screen-Shot-2018-04-16-at-11.34.51-AM.png)"
   ]
  },
  {
   "cell_type": "markdown",
   "metadata": {},
   "source": [
    "### Different CNN Architectures\n",
    "\n",
    "#### AlexNet\n",
    "\n",
    "![alexnet](resources/alexnet.png)\n",
    "\n",
    "\n",
    "#### VGGNet \n",
    "\n",
    "![vggnet](resources/vggnet2017.png)\n",
    "\n",
    "#### GoogleNet ( Inception V1 )\n",
    "\n",
    "![googlenet](resources/googlenet.png)\n",
    "\n",
    "#### ResNet\n",
    "\n",
    "![resnet](resources/resnet.png)\n",
    "\n",
    "#### Inception V3\n",
    "\n",
    "![inceptionv3](resources/inceptionv3.png)"
   ]
  },
  {
   "cell_type": "markdown",
   "metadata": {},
   "source": [
    "### Recurrent Neural Network"
   ]
  },
  {
   "cell_type": "markdown",
   "metadata": {},
   "source": [
    "### Different RNN Architectures\n",
    "\n",
    "![questionthree](resources/teaching-recurrent-neural-networks-using-tensorflow-webinar-august-2016-24-638.jpg)\n",
    "\n",
    "#### Unfolded Recurrent Neural Network\n",
    "\n",
    "![rnn-unfold](resources/rnn-unfolded.jpg)\n",
    "\n",
    "### RNN Cells\n",
    "\n",
    "#### LSTM ( Long Short Term Memory )\n",
    "\n",
    "![lstm](resources/lstm-cells.png)\n",
    "\n",
    "#### GruCell \n",
    "\n",
    "![grucell](resources/grucell.png)"
   ]
  },
  {
   "cell_type": "markdown",
   "metadata": {},
   "source": [
    "### Reinforcement Learning\n",
    "\n",
    "![dqn](resources/dqn.png)"
   ]
  },
  {
   "cell_type": "markdown",
   "metadata": {},
   "source": [
    "# Track 2"
   ]
  },
  {
   "cell_type": "markdown",
   "metadata": {},
   "source": [
    "### Neural Network Architectures Thru The Ages"
   ]
  },
  {
   "cell_type": "markdown",
   "metadata": {},
   "source": [
    "### How Does One Build A Neural Network Architecture"
   ]
  },
  {
   "cell_type": "markdown",
   "metadata": {},
   "source": [
    "### Neural Architecture Search"
   ]
  },
  {
   "cell_type": "markdown",
   "metadata": {},
   "source": [
    "### NASNet\n",
    "\n",
    "![nasnet](resources/image1.png)"
   ]
  },
  {
   "cell_type": "markdown",
   "metadata": {},
   "source": [
    "### AmoebaNet\n",
    "\n",
    "![amoebanet](resources/amoeba.png)"
   ]
  },
  {
   "cell_type": "markdown",
   "metadata": {},
   "source": [
    "### ENAS\n",
    "\n",
    "![nasnet](resources/enas.png)"
   ]
  },
  {
   "cell_type": "markdown",
   "metadata": {},
   "source": [
    "### Differential Architecture Search\n",
    "\n",
    "![darts](resources/darts.png)"
   ]
  },
  {
   "cell_type": "markdown",
   "metadata": {},
   "source": [
    "# Main Talk"
   ]
  },
  {
   "cell_type": "markdown",
   "metadata": {},
   "source": [
    "### Google AutoML"
   ]
  },
  {
   "cell_type": "markdown",
   "metadata": {},
   "source": [
    "![automl](resources/google-ai.jpg)"
   ]
  },
  {
   "cell_type": "markdown",
   "metadata": {},
   "source": [
    "# AutoKeras\n",
    "\n",
    "![autokeras](resources/1_n8jC9VAQuED6xhYTcCJ0pQ.png)"
   ]
  },
  {
   "cell_type": "markdown",
   "metadata": {},
   "source": [
    "# Resources\n",
    "\n",
    "1. https://arxiv.org/pdf/1802.01548.pdf\n",
    "2. https://www.fast.ai/2018/07/12/auto-ml-1/\n",
    "3. https://www.fast.ai/2018/07/16/auto-ml2/\n",
    "4. https://www.fast.ai/2018/04/30/dawnbench-fastai/\n",
    "5. https://iamtrask.github.io/2015/07/12/basic-python-network/\n",
    "6. https://arxiv.org/pdf/1802.03268.pdf\n",
    "7. http://pages.cs.wisc.edu/~bolo/shipyard/neural/local.html\n",
    "8. http://cs231n.github.io/convolutional-networks/\n"
   ]
  },
  {
   "cell_type": "code",
   "execution_count": null,
   "metadata": {},
   "outputs": [],
   "source": []
  }
 ],
 "metadata": {
  "kernelspec": {
   "display_name": "Python 3",
   "language": "python",
   "name": "python3"
  },
  "language_info": {
   "codemirror_mode": {
    "name": "ipython",
    "version": 3
   },
   "file_extension": ".py",
   "mimetype": "text/x-python",
   "name": "python",
   "nbconvert_exporter": "python",
   "pygments_lexer": "ipython3",
   "version": "3.7.0"
  }
 },
 "nbformat": 4,
 "nbformat_minor": 2
}
