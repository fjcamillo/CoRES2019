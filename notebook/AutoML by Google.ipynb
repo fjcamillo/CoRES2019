{
 "cells": [
  {
   "cell_type": "markdown",
   "metadata": {},
   "source": [
    "# AutoML by Google"
   ]
  },
  {
   "cell_type": "code",
   "execution_count": null,
   "metadata": {},
   "outputs": [],
   "source": []
  },
  {
   "cell_type": "markdown",
   "metadata": {},
   "source": [
    "### Profile\n",
    "\n",
    "Francisc Camillo <br>\n",
    "AMAGI <br>\n",
    "Software Engineer\n"
   ]
  },
  {
   "cell_type": "markdown",
   "metadata": {},
   "source": [
    "## Table of Contents\n",
    "\n",
    "[Question](#Questions)\n",
    "1. [Question 1](#Question-1)\n",
    "2. [Question 2](#Question-2)\n",
    "3. [Question 3](#Question-3)\n",
    "\n",
    "[Track 1](#Track-1) <br>\n",
    "If audience is not yet ready to learn about AutoML\n",
    "1. [What is Neural Network](#What-is-neural-network)\n",
    "2. [Parts of a Neural Network](#Parts-of-a-Neural-Network)\n",
    "3. [5 Layer Neural Network](#5-layer-neural-network)\n",
    "4. [Convolutional Neural Network](#Convolutional-neural-network)\n",
    "5. [Different CNN Architectures](#Different-cnn-architectures)\n",
    "6. [Recurrent Neural Network](#recurrent-neural-network)\n",
    "7. [Different RNN Architectures](#different-rnn-architectures)\n",
    "8. [Reinforcement Learning](#reinforcement-learning)\n",
    "\n",
    "[Track 2](#track-2) <br>\n",
    "If audience is somewhat ready to learn about AutoML\n",
    "\n",
    "1. [What is Neural Network](#what-is-neural-network)\n",
    "2. [Neural Network Architecture thru the ages](#neural-network-architecture-thru-the-ages)\n",
    "3. [How does one build a Neural Network Architecture](#how-does-one-build-a-neural-network-architecture)\n",
    "4. [Neural Architecture Search](#neural-architecture-search)\n",
    "5. [NASNet](#nasnet)\n",
    "6. [AmoebaNet](#amoebanet)\n",
    "7. [ENAS](#enas)\n",
    "8. [Differential Architecture Search ( DARTS )](#differential-architecture-search)\n",
    "\n",
    "[Main Talk](#main-talk) <br>\n",
    "1. [Neural Architecture Search Simplified](#neural-architecture-search-simplified)\n",
    "2. [Google's Implementation ( Google AutoML )](#Google-AutoML)\n"
   ]
  },
  {
   "cell_type": "markdown",
   "metadata": {},
   "source": [
    "# Questions"
   ]
  },
  {
   "cell_type": "markdown",
   "metadata": {},
   "source": [
    "### Question 1"
   ]
  },
  {
   "cell_type": "markdown",
   "metadata": {},
   "source": [
    "### Question 2"
   ]
  },
  {
   "cell_type": "markdown",
   "metadata": {},
   "source": [
    "### Question 3"
   ]
  },
  {
   "cell_type": "markdown",
   "metadata": {},
   "source": [
    "# Track 1"
   ]
  },
  {
   "cell_type": "markdown",
   "metadata": {},
   "source": [
    "### What is Neural Network"
   ]
  },
  {
   "cell_type": "markdown",
   "metadata": {},
   "source": [
    "### Parts of a Neural Network"
   ]
  },
  {
   "cell_type": "markdown",
   "metadata": {},
   "source": [
    "### 5 Layer Neural Network"
   ]
  },
  {
   "cell_type": "markdown",
   "metadata": {},
   "source": [
    "### Convolutional Neural Network"
   ]
  },
  {
   "cell_type": "markdown",
   "metadata": {},
   "source": [
    "### Different CNN Architectures"
   ]
  },
  {
   "cell_type": "markdown",
   "metadata": {},
   "source": [
    "### Recurrent Neural Network"
   ]
  },
  {
   "cell_type": "markdown",
   "metadata": {},
   "source": [
    "### Different RNN Architectures"
   ]
  },
  {
   "cell_type": "markdown",
   "metadata": {},
   "source": [
    "### Reinforcement Learning"
   ]
  },
  {
   "cell_type": "markdown",
   "metadata": {},
   "source": [
    "# Track 2"
   ]
  },
  {
   "cell_type": "markdown",
   "metadata": {},
   "source": [
    "### What is a Neural Network"
   ]
  },
  {
   "cell_type": "markdown",
   "metadata": {},
   "source": [
    "### Neural Network Architectures Thru The Ages"
   ]
  },
  {
   "cell_type": "markdown",
   "metadata": {},
   "source": [
    "### How Does One Build A Neural Network Architecture"
   ]
  },
  {
   "cell_type": "markdown",
   "metadata": {},
   "source": [
    "### Neural Architecture Search"
   ]
  },
  {
   "cell_type": "markdown",
   "metadata": {},
   "source": [
    "### NASNet"
   ]
  },
  {
   "cell_type": "markdown",
   "metadata": {},
   "source": [
    "### AmoebaNet"
   ]
  },
  {
   "cell_type": "markdown",
   "metadata": {},
   "source": [
    "### ENAS"
   ]
  },
  {
   "cell_type": "markdown",
   "metadata": {},
   "source": [
    "### Differential Architecture Search"
   ]
  },
  {
   "cell_type": "markdown",
   "metadata": {},
   "source": [
    "# Main Talk"
   ]
  },
  {
   "cell_type": "markdown",
   "metadata": {},
   "source": [
    "### Neural Architecture Search Simplified"
   ]
  },
  {
   "cell_type": "markdown",
   "metadata": {},
   "source": [
    "### Google AutoML"
   ]
  },
  {
   "cell_type": "code",
   "execution_count": null,
   "metadata": {},
   "outputs": [],
   "source": []
  },
  {
   "cell_type": "code",
   "execution_count": null,
   "metadata": {},
   "outputs": [],
   "source": []
  }
 ],
 "metadata": {
  "kernelspec": {
   "display_name": "Python 3",
   "language": "python",
   "name": "python3"
  },
  "language_info": {
   "codemirror_mode": {
    "name": "ipython",
    "version": 3
   },
   "file_extension": ".py",
   "mimetype": "text/x-python",
   "name": "python",
   "nbconvert_exporter": "python",
   "pygments_lexer": "ipython3",
   "version": "3.7.0"
  }
 },
 "nbformat": 4,
 "nbformat_minor": 2
}
