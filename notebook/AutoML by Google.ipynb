{
 "cells": [
  {
   "cell_type": "markdown",
   "metadata": {},
   "source": [
    "# AutoML by Google"
   ]
  },
  {
   "cell_type": "code",
   "execution_count": null,
   "metadata": {},
   "outputs": [],
   "source": []
  },
  {
   "cell_type": "markdown",
   "metadata": {},
   "source": [
    "### Profile\n",
    "\n",
    "Francisc Camillo <br>\n",
    "AMAGI <br>\n",
    "Software Engineer\n"
   ]
  },
  {
   "cell_type": "markdown",
   "metadata": {},
   "source": [
    "## Table of Contents\n",
    "\n",
    "QA\n",
    "1. Question 1\n",
    "2. Question 2\n",
    "3. Question 3\n",
    "\n",
    "Track 1 <br>\n",
    "If audience is not yet ready to learn about AutoML\n",
    "1. What is Neural Network\n",
    "2. Parts of a Neural Network\n",
    "3. 5 Layer Neural Network\n",
    "4. Convolutional Neural Network\n",
    "5. Different CNN Architectures\n",
    "6. Recurrent Layer Neural Network\n",
    "7. Different RNN Architectures\n",
    "\n",
    "Track 2 <br>\n",
    "If audience is somewhat ready to learn about AutoML\n",
    "\n",
    "1. What is Neural Network\n",
    "2. Neural Network Architecture thru the ages\n",
    "3. How does one build a Neural Network Architecture\n",
    "4. Neural Architecture Search\n",
    "5. NASNet\n",
    "6. AmoebaNet\n",
    "7. ENAS\n",
    "8. Differential Architecture Search ( DARTS )\n",
    "9. Google's Implementation ( Google AutoML )\n"
   ]
  },
  {
   "cell_type": "code",
   "execution_count": null,
   "metadata": {},
   "outputs": [],
   "source": []
  },
  {
   "cell_type": "code",
   "execution_count": null,
   "metadata": {},
   "outputs": [],
   "source": []
  }
 ],
 "metadata": {
  "kernelspec": {
   "display_name": "Python 3",
   "language": "python",
   "name": "python3"
  },
  "language_info": {
   "codemirror_mode": {
    "name": "ipython",
    "version": 3
   },
   "file_extension": ".py",
   "mimetype": "text/x-python",
   "name": "python",
   "nbconvert_exporter": "python",
   "pygments_lexer": "ipython3",
   "version": "3.7.0"
  }
 },
 "nbformat": 4,
 "nbformat_minor": 2
}
